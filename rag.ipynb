{
 "cells": [
  {
   "cell_type": "code",
   "execution_count": 1,
   "id": "d2d6830d-7beb-40b5-8e0b-f6fe44036404",
   "metadata": {},
   "outputs": [
    {
     "name": "stdout",
     "output_type": "stream",
     "text": [
      "Requirement already satisfied: requests in c:\\users\\pssup\\anaconda3\\lib\\site-packages (2.31.0)\n",
      "Requirement already satisfied: langchain in c:\\users\\pssup\\anaconda3\\lib\\site-packages (0.0.284)\n",
      "Requirement already satisfied: charset-normalizer<4,>=2 in c:\\users\\pssup\\anaconda3\\lib\\site-packages (from requests) (2.0.4)\n",
      "Requirement already satisfied: idna<4,>=2.5 in c:\\users\\pssup\\anaconda3\\lib\\site-packages (from requests) (3.4)\n",
      "Requirement already satisfied: urllib3<3,>=1.21.1 in c:\\users\\pssup\\anaconda3\\lib\\site-packages (from requests) (2.0.7)\n",
      "Requirement already satisfied: certifi>=2017.4.17 in c:\\users\\pssup\\anaconda3\\lib\\site-packages (from requests) (2024.2.2)\n",
      "Requirement already satisfied: PyYAML>=5.3 in c:\\users\\pssup\\anaconda3\\lib\\site-packages (from langchain) (6.0.1)\n",
      "Requirement already satisfied: SQLAlchemy<3,>=1.4 in c:\\users\\pssup\\anaconda3\\lib\\site-packages (from langchain) (2.0.25)\n",
      "Requirement already satisfied: aiohttp<4.0.0,>=3.8.3 in c:\\users\\pssup\\anaconda3\\lib\\site-packages (from langchain) (3.9.3)\n",
      "Requirement already satisfied: dataclasses-json<0.6.0,>=0.5.7 in c:\\users\\pssup\\anaconda3\\lib\\site-packages (from langchain) (0.5.14)\n",
      "Requirement already satisfied: langsmith<0.1.0,>=0.0.21 in c:\\users\\pssup\\anaconda3\\lib\\site-packages (from langchain) (0.0.92)\n",
      "Requirement already satisfied: numexpr<3.0.0,>=2.8.4 in c:\\users\\pssup\\anaconda3\\lib\\site-packages (from langchain) (2.8.7)\n",
      "Requirement already satisfied: numpy<2,>=1 in c:\\users\\pssup\\anaconda3\\lib\\site-packages (from langchain) (1.26.4)\n",
      "Requirement already satisfied: pydantic<3,>=1 in c:\\users\\pssup\\anaconda3\\lib\\site-packages (from langchain) (1.10.12)\n",
      "Requirement already satisfied: tenacity<9.0.0,>=8.1.0 in c:\\users\\pssup\\anaconda3\\lib\\site-packages (from langchain) (8.4.1)\n",
      "Requirement already satisfied: aiosignal>=1.1.2 in c:\\users\\pssup\\anaconda3\\lib\\site-packages (from aiohttp<4.0.0,>=3.8.3->langchain) (1.2.0)\n",
      "Requirement already satisfied: attrs>=17.3.0 in c:\\users\\pssup\\anaconda3\\lib\\site-packages (from aiohttp<4.0.0,>=3.8.3->langchain) (23.1.0)\n",
      "Requirement already satisfied: frozenlist>=1.1.1 in c:\\users\\pssup\\anaconda3\\lib\\site-packages (from aiohttp<4.0.0,>=3.8.3->langchain) (1.4.0)\n",
      "Requirement already satisfied: multidict<7.0,>=4.5 in c:\\users\\pssup\\anaconda3\\lib\\site-packages (from aiohttp<4.0.0,>=3.8.3->langchain) (6.0.4)\n",
      "Requirement already satisfied: yarl<2.0,>=1.0 in c:\\users\\pssup\\anaconda3\\lib\\site-packages (from aiohttp<4.0.0,>=3.8.3->langchain) (1.9.3)\n",
      "Requirement already satisfied: marshmallow<4.0.0,>=3.18.0 in c:\\users\\pssup\\anaconda3\\lib\\site-packages (from dataclasses-json<0.6.0,>=0.5.7->langchain) (3.21.3)\n",
      "Requirement already satisfied: typing-inspect<1,>=0.4.0 in c:\\users\\pssup\\anaconda3\\lib\\site-packages (from dataclasses-json<0.6.0,>=0.5.7->langchain) (0.9.0)\n",
      "Requirement already satisfied: typing-extensions>=4.2.0 in c:\\users\\pssup\\anaconda3\\lib\\site-packages (from pydantic<3,>=1->langchain) (4.9.0)\n",
      "Requirement already satisfied: greenlet!=0.4.17 in c:\\users\\pssup\\anaconda3\\lib\\site-packages (from SQLAlchemy<3,>=1.4->langchain) (3.0.1)\n",
      "Requirement already satisfied: packaging>=17.0 in c:\\users\\pssup\\anaconda3\\lib\\site-packages (from marshmallow<4.0.0,>=3.18.0->dataclasses-json<0.6.0,>=0.5.7->langchain) (24.1)\n",
      "Requirement already satisfied: mypy-extensions>=0.3.0 in c:\\users\\pssup\\anaconda3\\lib\\site-packages (from typing-inspect<1,>=0.4.0->dataclasses-json<0.6.0,>=0.5.7->langchain) (1.0.0)\n",
      "Note: you may need to restart the kernel to use updated packages.\n"
     ]
    }
   ],
   "source": [
    "pip install requests langchain"
   ]
  },
  {
   "cell_type": "code",
   "execution_count": 2,
   "id": "37398ec2-c7b5-4804-845a-86c7557818c3",
   "metadata": {},
   "outputs": [],
   "source": [
    "import requests\n",
    "import google.generativeai as palm\n",
    "from bs4 import BeautifulSoup"
   ]
  },
  {
   "cell_type": "code",
   "execution_count": 3,
   "id": "cb3578e8-e292-4503-afba-fb9e17187ef9",
   "metadata": {},
   "outputs": [],
   "source": [
    "def fetch_content(url):\n",
    "    response = requests.get(url)\n",
    "    if response.status_code == 200:\n",
    "        return response.text\n",
    "    else:\n",
    "        raise Exception(f\"Failed to fetch content from URL: {response.status_code}\")"
   ]
  },
  {
   "cell_type": "code",
   "execution_count": 4,
   "id": "994cd7f4-e4de-4ac3-9a90-c54c470a9d44",
   "metadata": {},
   "outputs": [],
   "source": [
    "def extract_text(html_content):\n",
    "    soup = BeautifulSoup(html_content, 'html.parser')\n",
    "    text = soup.get_text(separator=' ')\n",
    "    return text"
   ]
  },
  {
   "cell_type": "code",
   "execution_count": 5,
   "id": "ad68ca5b-2690-4e58-807d-0f4ecfb4f256",
   "metadata": {},
   "outputs": [],
   "source": [
    "def ask_palm(question, content):\n",
    "    prompt = f\"{content}\\n\\n{question}\"\n",
    "    response = palm.generate_text(prompt=prompt)\n",
    "    return response.result"
   ]
  },
  {
   "cell_type": "code",
   "execution_count": 6,
   "id": "b2293bd8-b32d-4589-829b-9fa2c88313aa",
   "metadata": {},
   "outputs": [],
   "source": [
    "palm.configure(api_key=\"your_palm_key\")"
   ]
  },
  {
   "cell_type": "code",
   "execution_count": 7,
   "id": "4890c66e-da99-45e9-8b12-fbe059dd8d88",
   "metadata": {},
   "outputs": [
    {
     "data": {
      "text/plain": [
       "'\\n \\n \\n Releases : The IntelliJ IDEA Blog | The JetBrains Blog \\n \\n \\n \\n \\n \\n \\n \\n \\n \\n \\n \\n \\n \\n \\n \\n \\n \\n \\n \\n \\n \\n \\n \\n \\n \\n \\n \\n \\n \\n \\n \\n \\n \\n \\n \\n \\n \\n \\n \\n \\n \\n \\n \\n \\n \\n \\n \\n \\n \\n \\n \\n \\n \\n \\n \\n \\n \\n \\n \\n \\n \\n \\n \\n \\n \\n \\n \\n \\n \\n \\n \\n \\n \\n \\n \\n \\n \\n \\n \\n \\n \\n \\n \\n \\n \\n \\n \\n \\n \\n \\n \\n \\n \\n \\n \\n \\n \\n \\n Skip to content \\n \\n \\n \\n Topics \\n \\n \\n Search \\n \\n Language \\n English Deutsch Español Français 日本語 한국어 Русский 简体中文 Português do Brasil Türkçe   \\n \\n Burger menu icon \\n \\n \\n IDEs \\n \\n AppCode \\n CLion \\n DataGrip \\n DataSpell \\n Fleet \\n GoLand \\n IntelliJ IDEA \\n PhpStorm \\n PyCharm \\n RustRover \\n Rider \\n RubyMine \\n WebStorm \\n \\n \\n Plugins & Services \\n \\n Big Data Tools \\n Code With Me \\n Quality Assurance \\n JetBrains Platform \\n Scala \\n Toolbox App \\n Writerside \\n JetBrains AI \\n Grazie \\n \\n \\n Team Tools \\n \\n Datalore \\n Space \\n TeamCity \\n Upsource \\n YouTrack \\n Hub \\n Qodana \\n \\n \\n .NET & Visual Studio \\n \\n .NET Tools \\n ReSharper C++ \\n \\n \\n Languages & Frameworks \\n \\n Kotlin \\n Ktor \\n MPS \\n Amper \\n \\n \\n Education & Research \\n \\n JetBrains Academy \\n Research \\n \\n \\n Company \\n \\n Company Blog \\n Security \\n \\n \\n \\n \\n \\n \\n \\n \\n \\n \\n \\n \\n \\n \\n \\n IntelliJ IDEA \\n \\n IntelliJ IDEA – the Leading Java and Kotlin IDE, by JetBrains \\n \\n \\n \\n \\n Follow \\n \\n Follow: \\n Twitter   Twitter \\n Facebook   Facebook \\n Youtube   Youtube \\n RSS   RSS \\n \\n \\n Download \\n \\n \\n \\n \\n \\n \\n \\n \\n All \\n \\n News \\n Releases \\n Livestreams \\n Tips & Tricks \\n Early Access Program \\n Plugins \\n \\n \\n \\n \\n \\n \\n \\n \\n Releases \\n \\n \\n \\n \\n   \\n IntelliJ IDEA 2024.2 Is Out!\\xa0   \\n \\n IntelliJ IDEA 2024.2 has arrived, featuring a host of exciting upgrades. This blog post outlines the dozens of new features included in the new version. \\n \\n \\n \\n \\n \\n Maria Kosukhina \\n \\n \\n \\n \\n \\n \\n \\n \\n \\n   \\n IntelliJ IDEA 2024.1.5 is Out   \\n \\n We’ve just released IntelliJ IDEA 2024.1.5.\\n\\n\\n\\nYou can update to this version from inside the IDE, using the Toolbox App, or using snaps if you are a Ubuntu user. You can also download it from our website.\\n\\n\\n\\nHere are the most notable updates:\\n\\n\\n\\n\\nFixed the issue where the terminal would open slowly… \\n \\n \\n \\n \\n \\n Julia Shashkova \\n \\n \\n \\n \\n \\n \\n \\n \\n \\n   \\n The New UI Becomes the Default in 2024.2   \\n \\n We are happy to announce that we will enable the new UI for all JetBrains IDE users in the upcoming 2024.2 version. We designed the new UI to reduce visual clutter, ensuring easy access to essential features while gradually revealing more advanced functionality as needed. The new UI is clean and mod… \\n \\n \\n \\n \\n \\n Alina Mishina \\n \\n \\n \\n \\n \\n \\n \\n \\n \\n   \\n IntelliJ IDEA 2024.1.4 Is Out!   \\n \\n IntelliJ IDEA 2024.1.4 has arrived with several valuable fixes.\\n\\n\\n\\nYou can update to this version from inside the IDE, using the\\xa0Toolbox App, or using snaps if you are a Ubuntu user. You can also download it from our\\xa0website.\\n\\n\\n\\nHere are the most notable updates included in v2024.1.4:\\n\\n\\n\\n\\n… \\n \\n \\n \\n \\n \\n Maria Kosukhina \\n \\n \\n \\n \\n \\n \\n \\n \\n \\n   \\n IntelliJ IDEA 2024.1.3 Is Out!\\xa0   \\n \\n Our second bug-fix release for IntelliJ IDEA v2024.1 is now available.\\xa0\\n\\n\\n\\nYou can update to this version from inside the IDE, using the Toolbox App, or using snaps if you are an Ubuntu user. Also, you can download it from our website.\\n\\n\\n\\nThis version brings the following improvements:\\n\\n\\n\\n\\nFixe… \\n \\n \\n \\n \\n \\n Maria Kosukhina \\n \\n \\n \\n \\n \\n \\n \\n \\n \\n   \\n IntelliJ IDEA 2024.1.2 Is Out!\\xa0   \\n \\n We’ve just released a new update for v2024.1!\\xa0\\n\\n\\n\\nYou can get the latest version from our website, via the Toolbox App, or by using snaps for Ubuntu.\\xa0\\n\\n\\n\\nThe latest version comes with the following important improvements:\\n\\n\\n\\n\\nThe IDE no longer crashes when using the new Ubuntu 24 distribut… \\n \\n \\n \\n \\n \\n Maria Kosukhina \\n \\n \\n \\n \\n \\n \\n \\n \\n \\n   \\n IntelliJ IDEA 2024.1.1 Is Out!   \\n \\n Our first update for IntelliJ IDEA 2024.1 is now available for download. \\n \\n \\n \\n \\n \\n Maria Kosukhina \\n \\n \\n \\n \\n \\n \\n \\n \\n \\n   \\n IntelliJ IDEA 2024.1 Is Out!   \\n \\n IntelliJ IDEA 2024.1 has been released with dozens of improvements to various parts of the IDE listed in this blog post. \\n \\n \\n \\n \\n \\n Maria Kosukhina \\n \\n \\n \\n \\n \\n \\n \\n \\n \\n   \\n IntelliJ IDEA 2023.3.6 Is Out!   \\n \\n We’ve just released a bug-fix update for v2023.3. You can download the latest build from our website, via the Toolbox App, or by using snaps for Ubuntu.\\n\\n\\n\\nThis latest version brings an important fix for macOS users:\\n\\n\\n\\n\\nWe’ve introduced a workaround to reduce the probability of IDE crashes after up… \\n \\n \\n \\n \\n \\n Maria Kosukhina \\n \\n \\n \\n \\n \\n \\n \\n \\n \\n   \\n IntelliJ IDEA 2023.3.5 Is Out!   \\n \\n We’ve just released one more bug-fix update for v2023.3.\\n\\n\\n\\nYou can download the latest build from our\\xa0website, via the\\xa0Toolbox App, or by using snaps for Ubuntu.\\n\\n\\n\\nIntelliJ IDEA 2023.3.5. includes the following valuable fixes:\\n\\n\\n\\n\\nWe’ve fixed the issue causing erratic screen scaling on L… \\n \\n \\n \\n \\n \\n Maria Kosukhina \\n \\n \\n \\n \\n \\n \\n \\n \\n \\n   \\n IntelliJ IDEA 2023.3.4 Is Out!   \\n \\n IntelliJ IDEA 2023.3.4, a new bug-fix update, is now available!\\xa0\\n\\n\\n\\nYou can update to this version from inside the IDE, using the\\xa0Toolbox App, or using snaps if you are a Ubuntu user. You can also download it from our\\xa0website.\\n\\n\\n\\nHere are the most important fixes and updates in Intell… \\n \\n \\n \\n \\n \\n Maria Kosukhina \\n \\n \\n \\n \\n \\n \\n \\n \\n \\n   \\n What’s New in IntelliJ IDEA Ultimate 2023.3   \\n \\n In this blog post, we’ll guide you through the new features, showcasing what IntelliJ IDEA Ultimate 2023.3 has to offer to bring you a superior coding experience. \\n \\n \\n \\n \\n \\n Maria Kosukhina \\n \\n \\n \\n \\n \\n \\n \\n \\n \\n \\n Load more \\n \\n \\n \\n \\n \\n \\n \\n Privacy & Security \\n Terms of Use \\n Legal \\n Genuine tools \\n   \\n Language \\n English Deutsch Español Français 日本語 한국어 Русский 简体中文 Português do Brasil Türkçe   \\n \\n \\n \\n \\n Twitter \\n \\n \\n Facebook \\n \\n \\n Linkedin \\n \\n \\n Instagram \\n \\n \\n Youtube \\n \\n \\n RSS \\n \\n \\n Tiktok \\n \\n \\n Merchandise store icon Merchandise store \\n \\n Copyright © 2000 JetBrains s.r.o. \\n \\n \\n \\n \\n \\n \\n \\n \\n \\n \\n \\n \\n \\n \\n \\n \\n \\n'"
      ]
     },
     "execution_count": 7,
     "metadata": {},
     "output_type": "execute_result"
    }
   ],
   "source": [
    "url = \"https://blog.jetbrains.com/idea/category/releases/\"\n",
    "html_content = fetch_content(url)\n",
    "extracted_text = extract_text(html_content)\n",
    "extracted_text"
   ]
  },
  {
   "cell_type": "code",
   "execution_count": 8,
   "id": "2385af7c-483c-4972-9a9f-1cfa80817e02",
   "metadata": {},
   "outputs": [],
   "source": [
    "MAX_LENGTH = 100000  # Define your maximum length limit\n",
    "summarized_text = extracted_text[:MAX_LENGTH] if len(extracted_text) > MAX_LENGTH else extracted_text"
   ]
  },
  {
   "cell_type": "code",
   "execution_count": 9,
   "id": "519babc8-b6e8-4dc4-b0b4-348b6176bf26",
   "metadata": {},
   "outputs": [
    {
     "name": "stdout",
     "output_type": "stream",
     "text": [
      "2024.2\n"
     ]
    }
   ],
   "source": [
    "question = \"What is the latest released version 2024 ?\"\n",
    "# question = \"What is the version that was released latest\"\n",
    "answer = ask_palm(question, summarized_text)\n",
    "print(answer)"
   ]
  },
  {
   "cell_type": "code",
   "execution_count": null,
   "id": "26893cf1-a752-4f73-a9b6-6157750d9e09",
   "metadata": {},
   "outputs": [],
   "source": []
  }
 ],
 "metadata": {
  "kernelspec": {
   "display_name": "Python 3 (ipykernel)",
   "language": "python",
   "name": "python3"
  },
  "language_info": {
   "codemirror_mode": {
    "name": "ipython",
    "version": 3
   },
   "file_extension": ".py",
   "mimetype": "text/x-python",
   "name": "python",
   "nbconvert_exporter": "python",
   "pygments_lexer": "ipython3",
   "version": "3.11.7"
  }
 },
 "nbformat": 4,
 "nbformat_minor": 5
}
